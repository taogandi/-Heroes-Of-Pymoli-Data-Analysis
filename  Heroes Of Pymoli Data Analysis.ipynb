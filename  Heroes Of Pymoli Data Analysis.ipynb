{
 "cells": [
  {
   "cell_type": "code",
   "execution_count": 360,
   "metadata": {},
   "outputs": [
    {
     "data": {
      "text/html": [
       "<div>\n",
       "<style scoped>\n",
       "    .dataframe tbody tr th:only-of-type {\n",
       "        vertical-align: middle;\n",
       "    }\n",
       "\n",
       "    .dataframe tbody tr th {\n",
       "        vertical-align: top;\n",
       "    }\n",
       "\n",
       "    .dataframe thead th {\n",
       "        text-align: right;\n",
       "    }\n",
       "</style>\n",
       "<table border=\"1\" class=\"dataframe\">\n",
       "  <thead>\n",
       "    <tr style=\"text-align: right;\">\n",
       "      <th></th>\n",
       "      <th>Purchase ID</th>\n",
       "      <th>SN</th>\n",
       "      <th>Age</th>\n",
       "      <th>Gender</th>\n",
       "      <th>Item ID</th>\n",
       "      <th>Item Name</th>\n",
       "      <th>Price</th>\n",
       "    </tr>\n",
       "  </thead>\n",
       "  <tbody>\n",
       "    <tr>\n",
       "      <th>0</th>\n",
       "      <td>0</td>\n",
       "      <td>Lisim78</td>\n",
       "      <td>20</td>\n",
       "      <td>Male</td>\n",
       "      <td>108</td>\n",
       "      <td>Extraction, Quickblade Of Trembling Hands</td>\n",
       "      <td>3.53</td>\n",
       "    </tr>\n",
       "    <tr>\n",
       "      <th>1</th>\n",
       "      <td>1</td>\n",
       "      <td>Lisovynya38</td>\n",
       "      <td>40</td>\n",
       "      <td>Male</td>\n",
       "      <td>143</td>\n",
       "      <td>Frenzied Scimitar</td>\n",
       "      <td>1.56</td>\n",
       "    </tr>\n",
       "    <tr>\n",
       "      <th>2</th>\n",
       "      <td>2</td>\n",
       "      <td>Ithergue48</td>\n",
       "      <td>24</td>\n",
       "      <td>Male</td>\n",
       "      <td>92</td>\n",
       "      <td>Final Critic</td>\n",
       "      <td>4.88</td>\n",
       "    </tr>\n",
       "    <tr>\n",
       "      <th>3</th>\n",
       "      <td>3</td>\n",
       "      <td>Chamassasya86</td>\n",
       "      <td>24</td>\n",
       "      <td>Male</td>\n",
       "      <td>100</td>\n",
       "      <td>Blindscythe</td>\n",
       "      <td>3.27</td>\n",
       "    </tr>\n",
       "    <tr>\n",
       "      <th>4</th>\n",
       "      <td>4</td>\n",
       "      <td>Iskosia90</td>\n",
       "      <td>23</td>\n",
       "      <td>Male</td>\n",
       "      <td>131</td>\n",
       "      <td>Fury</td>\n",
       "      <td>1.44</td>\n",
       "    </tr>\n",
       "  </tbody>\n",
       "</table>\n",
       "</div>"
      ],
      "text/plain": [
       "   Purchase ID             SN  Age Gender  Item ID  \\\n",
       "0            0        Lisim78   20   Male      108   \n",
       "1            1    Lisovynya38   40   Male      143   \n",
       "2            2     Ithergue48   24   Male       92   \n",
       "3            3  Chamassasya86   24   Male      100   \n",
       "4            4      Iskosia90   23   Male      131   \n",
       "\n",
       "                                   Item Name  Price  \n",
       "0  Extraction, Quickblade Of Trembling Hands   3.53  \n",
       "1                          Frenzied Scimitar   1.56  \n",
       "2                               Final Critic   4.88  \n",
       "3                                Blindscythe   3.27  \n",
       "4                                       Fury   1.44  "
      ]
     },
     "execution_count": 360,
     "metadata": {},
     "output_type": "execute_result"
    }
   ],
   "source": [
    "# import Modules\n",
    "import pandas as pd\n",
    "import numpy as np\n",
    "\n",
    "# Raw data file\n",
    "file = \"Resources/purchase_data.csv\"\n",
    "\n",
    "# Read purchasing file and store into pandas data frame\n",
    "purchase_data = pd.read_csv(file)\n",
    "purchase_data.head()"
   ]
  },
  {
   "cell_type": "code",
   "execution_count": 361,
   "metadata": {},
   "outputs": [
    {
     "data": {
      "text/html": [
       "<div>\n",
       "<style scoped>\n",
       "    .dataframe tbody tr th:only-of-type {\n",
       "        vertical-align: middle;\n",
       "    }\n",
       "\n",
       "    .dataframe tbody tr th {\n",
       "        vertical-align: top;\n",
       "    }\n",
       "\n",
       "    .dataframe thead th {\n",
       "        text-align: right;\n",
       "    }\n",
       "</style>\n",
       "<table border=\"1\" class=\"dataframe\">\n",
       "  <thead>\n",
       "    <tr style=\"text-align: right;\">\n",
       "      <th></th>\n",
       "      <th>Total Players</th>\n",
       "    </tr>\n",
       "  </thead>\n",
       "  <tbody>\n",
       "    <tr>\n",
       "      <th>0</th>\n",
       "      <td>576</td>\n",
       "    </tr>\n",
       "  </tbody>\n",
       "</table>\n",
       "</div>"
      ],
      "text/plain": [
       "   Total Players\n",
       "0            576"
      ]
     },
     "execution_count": 361,
     "metadata": {},
     "output_type": "execute_result"
    }
   ],
   "source": [
    "# Display the total number of players\n",
    "total_players = len(purchase_data[\"SN\"].value_counts())\n",
    "\n",
    "player_count = pd.DataFrame({\"Total Players\":[total_players]})\n",
    "player_count"
   ]
  },
  {
   "cell_type": "code",
   "execution_count": 362,
   "metadata": {},
   "outputs": [],
   "source": [
    "# Number of Unique Items\n",
    "number_unique= len((purchase_data[\"Item ID\"]).unique())\n",
    "\n",
    "# Average Purchase Price\n",
    "average_price = (purchase_data[\"Price\"]).mean()\n",
    "\n",
    "# Total Number of Purchases\n",
    "number_purchases = (purchase_data[\"Purchase ID\"]).count()\n",
    "\n",
    "# Total Revenue\n",
    "total_revenue = (purchase_data[\"Price\"]).sum()"
   ]
  },
  {
   "cell_type": "code",
   "execution_count": 363,
   "metadata": {},
   "outputs": [],
   "source": [
    "# Create a summary data frame to hold the results\n",
    "summary = pd.DataFrame({\"Number of Unique Items\":[number_unique],\n",
    "                           \"Average Price\":[average_price], \n",
    "                           \"Number of Purchases\": [number_purchases], \n",
    "                           \"Total Revenue\": [total_revenue]})"
   ]
  },
  {
   "cell_type": "code",
   "execution_count": 364,
   "metadata": {},
   "outputs": [
    {
     "data": {
      "text/html": [
       "<style  type=\"text/css\" >\n",
       "</style>  \n",
       "<table id=\"T_bd152528_4ec7_11e9_b94c_4a00081ed490\" > \n",
       "<thead>    <tr> \n",
       "        <th class=\"blank level0\" ></th> \n",
       "        <th class=\"col_heading level0 col0\" >Number of Unique Items</th> \n",
       "        <th class=\"col_heading level0 col1\" >Average Price</th> \n",
       "        <th class=\"col_heading level0 col2\" >Number of Purchases</th> \n",
       "        <th class=\"col_heading level0 col3\" >Total Revenue</th> \n",
       "    </tr></thead> \n",
       "<tbody>    <tr> \n",
       "        <th id=\"T_bd152528_4ec7_11e9_b94c_4a00081ed490level0_row0\" class=\"row_heading level0 row0\" >0</th> \n",
       "        <td id=\"T_bd152528_4ec7_11e9_b94c_4a00081ed490row0_col0\" class=\"data row0 col0\" >183</td> \n",
       "        <td id=\"T_bd152528_4ec7_11e9_b94c_4a00081ed490row0_col1\" class=\"data row0 col1\" >$3.05</td> \n",
       "        <td id=\"T_bd152528_4ec7_11e9_b94c_4a00081ed490row0_col2\" class=\"data row0 col2\" >780</td> \n",
       "        <td id=\"T_bd152528_4ec7_11e9_b94c_4a00081ed490row0_col3\" class=\"data row0 col3\" >$2,379.77</td> \n",
       "    </tr></tbody> \n",
       "</table> "
      ],
      "text/plain": [
       "<pandas.io.formats.style.Styler at 0x1236272b0>"
      ]
     },
     "execution_count": 364,
     "metadata": {},
     "output_type": "execute_result"
    }
   ],
   "source": [
    "# Display the summary data frame in a cleaner format\n",
    "summary.style.format({'Average Price':\"${:,.2f}\",\n",
    "                         'Total Revenue': '${:,.2f}'})"
   ]
  },
  {
   "cell_type": "code",
   "execution_count": 365,
   "metadata": {},
   "outputs": [],
   "source": [
    "# Gender demographics\n",
    "gender_count = purchase_data.groupby(\"Gender\")\n",
    "total_gender_count = gender_count.nunique()[\"SN\"]\n",
    "percentage_of_players = total_gender_count / total_players * 100\n",
    "gender_demographics = pd.DataFrame({\"Total Count\": total_gender_count, \"Percentage of Players\": percentage_of_players})"
   ]
  },
  {
   "cell_type": "code",
   "execution_count": 366,
   "metadata": {},
   "outputs": [
    {
     "data": {
      "text/html": [
       "<style  type=\"text/css\" >\n",
       "</style>  \n",
       "<table id=\"T_bd197364_4ec7_11e9_9b0a_4a00081ed490\" > \n",
       "<thead>    <tr> \n",
       "        <th class=\"blank level0\" ></th> \n",
       "        <th class=\"col_heading level0 col0\" >Total Count</th> \n",
       "        <th class=\"col_heading level0 col1\" >Percentage of Players</th> \n",
       "    </tr>    <tr> \n",
       "        <th class=\"index_name level0\" >Gender</th> \n",
       "        <th class=\"blank\" ></th> \n",
       "        <th class=\"blank\" ></th> \n",
       "    </tr></thead> \n",
       "<tbody>    <tr> \n",
       "        <th id=\"T_bd197364_4ec7_11e9_9b0a_4a00081ed490level0_row0\" class=\"row_heading level0 row0\" >Male</th> \n",
       "        <td id=\"T_bd197364_4ec7_11e9_9b0a_4a00081ed490row0_col0\" class=\"data row0 col0\" >484</td> \n",
       "        <td id=\"T_bd197364_4ec7_11e9_9b0a_4a00081ed490row0_col1\" class=\"data row0 col1\" >84.03</td> \n",
       "    </tr>    <tr> \n",
       "        <th id=\"T_bd197364_4ec7_11e9_9b0a_4a00081ed490level0_row1\" class=\"row_heading level0 row1\" >Female</th> \n",
       "        <td id=\"T_bd197364_4ec7_11e9_9b0a_4a00081ed490row1_col0\" class=\"data row1 col0\" >81</td> \n",
       "        <td id=\"T_bd197364_4ec7_11e9_9b0a_4a00081ed490row1_col1\" class=\"data row1 col1\" >14.06</td> \n",
       "    </tr>    <tr> \n",
       "        <th id=\"T_bd197364_4ec7_11e9_9b0a_4a00081ed490level0_row2\" class=\"row_heading level0 row2\" >Other / Non-Disclosed</th> \n",
       "        <td id=\"T_bd197364_4ec7_11e9_9b0a_4a00081ed490row2_col0\" class=\"data row2 col0\" >11</td> \n",
       "        <td id=\"T_bd197364_4ec7_11e9_9b0a_4a00081ed490row2_col1\" class=\"data row2 col1\" >1.91</td> \n",
       "    </tr></tbody> \n",
       "</table> "
      ],
      "text/plain": [
       "<pandas.io.formats.style.Styler at 0x123627630>"
      ]
     },
     "execution_count": 366,
     "metadata": {},
     "output_type": "execute_result"
    }
   ],
   "source": [
    "# Format Gender demographics\n",
    "gender_demographics.sort_values([\"Total Count\"], ascending = False).style.format({\"Percentage of Players\":\"{:.2f}\"})"
   ]
  },
  {
   "cell_type": "code",
   "execution_count": 367,
   "metadata": {},
   "outputs": [],
   "source": [
    "#Total purchase by gender\n",
    "purchase_count = gender_count[\"Purchase ID\"].count()\n",
    "\n",
    "#Average Purchase \n",
    "average_purchase = gender_count[\"Price\"].mean()\n",
    "\n",
    "#Total purchase by gender\n",
    "total_purchase = gender_count[\"Price\"].sum()\n",
    "\n",
    "#Average purchase total per person\n",
    "average_purchase_person = total_purchase/total_gender_count"
   ]
  },
  {
   "cell_type": "code",
   "execution_count": 368,
   "metadata": {},
   "outputs": [
    {
     "data": {
      "text/html": [
       "<style  type=\"text/css\" >\n",
       "</style>  \n",
       "<table id=\"T_bd1d920a_4ec7_11e9_b598_4a00081ed490\" > \n",
       "<thead>    <tr> \n",
       "        <th class=\"blank level0\" ></th> \n",
       "        <th class=\"col_heading level0 col0\" >Purchase Count</th> \n",
       "        <th class=\"col_heading level0 col1\" >Average Purchase Price</th> \n",
       "        <th class=\"col_heading level0 col2\" >Average Purchase Value</th> \n",
       "        <th class=\"col_heading level0 col3\" >Avg Purchase Total per Person</th> \n",
       "    </tr>    <tr> \n",
       "        <th class=\"index_name level0\" >Gender</th> \n",
       "        <th class=\"blank\" ></th> \n",
       "        <th class=\"blank\" ></th> \n",
       "        <th class=\"blank\" ></th> \n",
       "        <th class=\"blank\" ></th> \n",
       "    </tr></thead> \n",
       "<tbody>    <tr> \n",
       "        <th id=\"T_bd1d920a_4ec7_11e9_b598_4a00081ed490level0_row0\" class=\"row_heading level0 row0\" >Female</th> \n",
       "        <td id=\"T_bd1d920a_4ec7_11e9_b598_4a00081ed490row0_col0\" class=\"data row0 col0\" >113</td> \n",
       "        <td id=\"T_bd1d920a_4ec7_11e9_b598_4a00081ed490row0_col1\" class=\"data row0 col1\" >$3.20</td> \n",
       "        <td id=\"T_bd1d920a_4ec7_11e9_b598_4a00081ed490row0_col2\" class=\"data row0 col2\" >$361.94</td> \n",
       "        <td id=\"T_bd1d920a_4ec7_11e9_b598_4a00081ed490row0_col3\" class=\"data row0 col3\" >$4.47</td> \n",
       "    </tr>    <tr> \n",
       "        <th id=\"T_bd1d920a_4ec7_11e9_b598_4a00081ed490level0_row1\" class=\"row_heading level0 row1\" >Male</th> \n",
       "        <td id=\"T_bd1d920a_4ec7_11e9_b598_4a00081ed490row1_col0\" class=\"data row1 col0\" >652</td> \n",
       "        <td id=\"T_bd1d920a_4ec7_11e9_b598_4a00081ed490row1_col1\" class=\"data row1 col1\" >$3.02</td> \n",
       "        <td id=\"T_bd1d920a_4ec7_11e9_b598_4a00081ed490row1_col2\" class=\"data row1 col2\" >$1,967.64</td> \n",
       "        <td id=\"T_bd1d920a_4ec7_11e9_b598_4a00081ed490row1_col3\" class=\"data row1 col3\" >$4.07</td> \n",
       "    </tr>    <tr> \n",
       "        <th id=\"T_bd1d920a_4ec7_11e9_b598_4a00081ed490level0_row2\" class=\"row_heading level0 row2\" >Other / Non-Disclosed</th> \n",
       "        <td id=\"T_bd1d920a_4ec7_11e9_b598_4a00081ed490row2_col0\" class=\"data row2 col0\" >15</td> \n",
       "        <td id=\"T_bd1d920a_4ec7_11e9_b598_4a00081ed490row2_col1\" class=\"data row2 col1\" >$3.35</td> \n",
       "        <td id=\"T_bd1d920a_4ec7_11e9_b598_4a00081ed490row2_col2\" class=\"data row2 col2\" >$50.19</td> \n",
       "        <td id=\"T_bd1d920a_4ec7_11e9_b598_4a00081ed490row2_col3\" class=\"data row2 col3\" >$4.56</td> \n",
       "    </tr></tbody> \n",
       "</table> "
      ],
      "text/plain": [
       "<pandas.io.formats.style.Styler at 0x123627e48>"
      ]
     },
     "execution_count": 368,
     "metadata": {},
     "output_type": "execute_result"
    }
   ],
   "source": [
    "#Display the summary data frame\n",
    "gender_demographics = pd.DataFrame({\"Purchase Count\": purchase_count, \n",
    "                                    \"Average Purchase Price\": average_purchase,\n",
    "                                    \"Average Purchase Value\":total_purchase,\n",
    "                                    \"Avg Purchase Total per Person\": average_purchase_person})\n",
    "\n",
    "\n",
    "gender_demographics.style.format({\"Average Purchase Value\":\"${:,.2f}\",\n",
    "                                  \"Average Purchase Price\":\"${:,.2f}\",\n",
    "                                  \"Avg Purchase Total per Person\":\"${:,.2f}\"})"
   ]
  },
  {
   "cell_type": "code",
   "execution_count": 369,
   "metadata": {},
   "outputs": [],
   "source": [
    "#Age demographics\n",
    "\n",
    "# Establish bins for ages\n",
    "age_bins = [0, 9.90, 14.90, 19.90, 24.90, 29.90, 34.90, 39.90, 99999]\n",
    "group_names = [\"<10\", \"10-14\", \"15-19\", \"20-24\", \"25-29\", \"30-34\", \"35-39\", \"40+\"]\n",
    "\n",
    "#Categorize the existing players using the age bins.\n",
    "purchase_data[\"Age Group\"] = pd.cut(purchase_data[\"Age\"],age_bins, labels=group_names)\n",
    "purchase_data\n",
    "\n",
    "#Calculate the numbers and percentages by age group\n",
    "age_group = purchase_data.groupby(\"Age Group\")\n",
    "total_count_age = age_group[\"SN\"].nunique()\n",
    "percentage_by_age = (total_count_age/total_players) * 100"
   ]
  },
  {
   "cell_type": "code",
   "execution_count": 370,
   "metadata": {},
   "outputs": [
    {
     "data": {
      "text/html": [
       "<style  type=\"text/css\" >\n",
       "</style>  \n",
       "<table id=\"T_bd23f866_4ec7_11e9_af71_4a00081ed490\" > \n",
       "<thead>    <tr> \n",
       "        <th class=\"blank level0\" ></th> \n",
       "        <th class=\"col_heading level0 col0\" >Total Count</th> \n",
       "        <th class=\"col_heading level0 col1\" >Percentage of Players</th> \n",
       "    </tr>    <tr> \n",
       "        <th class=\"index_name level0\" >Age Group</th> \n",
       "        <th class=\"blank\" ></th> \n",
       "        <th class=\"blank\" ></th> \n",
       "    </tr></thead> \n",
       "<tbody>    <tr> \n",
       "        <th id=\"T_bd23f866_4ec7_11e9_af71_4a00081ed490level0_row0\" class=\"row_heading level0 row0\" ><10</th> \n",
       "        <td id=\"T_bd23f866_4ec7_11e9_af71_4a00081ed490row0_col0\" class=\"data row0 col0\" >17</td> \n",
       "        <td id=\"T_bd23f866_4ec7_11e9_af71_4a00081ed490row0_col1\" class=\"data row0 col1\" >2.95</td> \n",
       "    </tr>    <tr> \n",
       "        <th id=\"T_bd23f866_4ec7_11e9_af71_4a00081ed490level0_row1\" class=\"row_heading level0 row1\" >10-14</th> \n",
       "        <td id=\"T_bd23f866_4ec7_11e9_af71_4a00081ed490row1_col0\" class=\"data row1 col0\" >22</td> \n",
       "        <td id=\"T_bd23f866_4ec7_11e9_af71_4a00081ed490row1_col1\" class=\"data row1 col1\" >3.82</td> \n",
       "    </tr>    <tr> \n",
       "        <th id=\"T_bd23f866_4ec7_11e9_af71_4a00081ed490level0_row2\" class=\"row_heading level0 row2\" >15-19</th> \n",
       "        <td id=\"T_bd23f866_4ec7_11e9_af71_4a00081ed490row2_col0\" class=\"data row2 col0\" >107</td> \n",
       "        <td id=\"T_bd23f866_4ec7_11e9_af71_4a00081ed490row2_col1\" class=\"data row2 col1\" >18.58</td> \n",
       "    </tr>    <tr> \n",
       "        <th id=\"T_bd23f866_4ec7_11e9_af71_4a00081ed490level0_row3\" class=\"row_heading level0 row3\" >20-24</th> \n",
       "        <td id=\"T_bd23f866_4ec7_11e9_af71_4a00081ed490row3_col0\" class=\"data row3 col0\" >258</td> \n",
       "        <td id=\"T_bd23f866_4ec7_11e9_af71_4a00081ed490row3_col1\" class=\"data row3 col1\" >44.79</td> \n",
       "    </tr>    <tr> \n",
       "        <th id=\"T_bd23f866_4ec7_11e9_af71_4a00081ed490level0_row4\" class=\"row_heading level0 row4\" >25-29</th> \n",
       "        <td id=\"T_bd23f866_4ec7_11e9_af71_4a00081ed490row4_col0\" class=\"data row4 col0\" >77</td> \n",
       "        <td id=\"T_bd23f866_4ec7_11e9_af71_4a00081ed490row4_col1\" class=\"data row4 col1\" >13.37</td> \n",
       "    </tr>    <tr> \n",
       "        <th id=\"T_bd23f866_4ec7_11e9_af71_4a00081ed490level0_row5\" class=\"row_heading level0 row5\" >30-34</th> \n",
       "        <td id=\"T_bd23f866_4ec7_11e9_af71_4a00081ed490row5_col0\" class=\"data row5 col0\" >52</td> \n",
       "        <td id=\"T_bd23f866_4ec7_11e9_af71_4a00081ed490row5_col1\" class=\"data row5 col1\" >9.03</td> \n",
       "    </tr>    <tr> \n",
       "        <th id=\"T_bd23f866_4ec7_11e9_af71_4a00081ed490level0_row6\" class=\"row_heading level0 row6\" >35-39</th> \n",
       "        <td id=\"T_bd23f866_4ec7_11e9_af71_4a00081ed490row6_col0\" class=\"data row6 col0\" >31</td> \n",
       "        <td id=\"T_bd23f866_4ec7_11e9_af71_4a00081ed490row6_col1\" class=\"data row6 col1\" >5.38</td> \n",
       "    </tr>    <tr> \n",
       "        <th id=\"T_bd23f866_4ec7_11e9_af71_4a00081ed490level0_row7\" class=\"row_heading level0 row7\" >40+</th> \n",
       "        <td id=\"T_bd23f866_4ec7_11e9_af71_4a00081ed490row7_col0\" class=\"data row7 col0\" >12</td> \n",
       "        <td id=\"T_bd23f866_4ec7_11e9_af71_4a00081ed490row7_col1\" class=\"data row7 col1\" >2.08</td> \n",
       "    </tr></tbody> \n",
       "</table> "
      ],
      "text/plain": [
       "<pandas.io.formats.style.Styler at 0x123638358>"
      ]
     },
     "execution_count": 370,
     "metadata": {},
     "output_type": "execute_result"
    }
   ],
   "source": [
    "#Display Age demographics\n",
    "age_demographics = pd.DataFrame({\"Total Count\": total_count_age, \"Percentage of Players\": percentage_by_age})\n",
    "age_demographics.style.format({\"Percentage of Players\":\"{:,.2f}\"})"
   ]
  },
  {
   "cell_type": "code",
   "execution_count": 371,
   "metadata": {},
   "outputs": [],
   "source": [
    "#Purchasing Analysis by age\n",
    "#purchase by age group\n",
    "purchase_age = age_group[\"Purchase ID\"].count()\n",
    "average_price_age = age_group[\"Price\"].mean()\n",
    "purchase_total = age_group[\"Price\"].sum()\n",
    "average_age_purchase = purchase_total/total_count_age"
   ]
  },
  {
   "cell_type": "code",
   "execution_count": 372,
   "metadata": {},
   "outputs": [
    {
     "data": {
      "text/html": [
       "<style  type=\"text/css\" >\n",
       "</style>  \n",
       "<table id=\"T_bd2a6e76_4ec7_11e9_8a98_4a00081ed490\" > \n",
       "<thead>    <tr> \n",
       "        <th class=\"blank level0\" ></th> \n",
       "        <th class=\"col_heading level0 col0\" >Purchase Count</th> \n",
       "        <th class=\"col_heading level0 col1\" >Average Purchase Price</th> \n",
       "        <th class=\"col_heading level0 col2\" >Total Purchase Value</th> \n",
       "        <th class=\"col_heading level0 col3\" >Average Purchase Total per Person</th> \n",
       "    </tr>    <tr> \n",
       "        <th class=\"index_name level0\" >Age Group</th> \n",
       "        <th class=\"blank\" ></th> \n",
       "        <th class=\"blank\" ></th> \n",
       "        <th class=\"blank\" ></th> \n",
       "        <th class=\"blank\" ></th> \n",
       "    </tr></thead> \n",
       "<tbody>    <tr> \n",
       "        <th id=\"T_bd2a6e76_4ec7_11e9_8a98_4a00081ed490level0_row0\" class=\"row_heading level0 row0\" ><10</th> \n",
       "        <td id=\"T_bd2a6e76_4ec7_11e9_8a98_4a00081ed490row0_col0\" class=\"data row0 col0\" >23</td> \n",
       "        <td id=\"T_bd2a6e76_4ec7_11e9_8a98_4a00081ed490row0_col1\" class=\"data row0 col1\" >$3.35</td> \n",
       "        <td id=\"T_bd2a6e76_4ec7_11e9_8a98_4a00081ed490row0_col2\" class=\"data row0 col2\" >$77.13</td> \n",
       "        <td id=\"T_bd2a6e76_4ec7_11e9_8a98_4a00081ed490row0_col3\" class=\"data row0 col3\" >$4.54</td> \n",
       "    </tr>    <tr> \n",
       "        <th id=\"T_bd2a6e76_4ec7_11e9_8a98_4a00081ed490level0_row1\" class=\"row_heading level0 row1\" >10-14</th> \n",
       "        <td id=\"T_bd2a6e76_4ec7_11e9_8a98_4a00081ed490row1_col0\" class=\"data row1 col0\" >28</td> \n",
       "        <td id=\"T_bd2a6e76_4ec7_11e9_8a98_4a00081ed490row1_col1\" class=\"data row1 col1\" >$2.96</td> \n",
       "        <td id=\"T_bd2a6e76_4ec7_11e9_8a98_4a00081ed490row1_col2\" class=\"data row1 col2\" >$82.78</td> \n",
       "        <td id=\"T_bd2a6e76_4ec7_11e9_8a98_4a00081ed490row1_col3\" class=\"data row1 col3\" >$3.76</td> \n",
       "    </tr>    <tr> \n",
       "        <th id=\"T_bd2a6e76_4ec7_11e9_8a98_4a00081ed490level0_row2\" class=\"row_heading level0 row2\" >15-19</th> \n",
       "        <td id=\"T_bd2a6e76_4ec7_11e9_8a98_4a00081ed490row2_col0\" class=\"data row2 col0\" >136</td> \n",
       "        <td id=\"T_bd2a6e76_4ec7_11e9_8a98_4a00081ed490row2_col1\" class=\"data row2 col1\" >$3.04</td> \n",
       "        <td id=\"T_bd2a6e76_4ec7_11e9_8a98_4a00081ed490row2_col2\" class=\"data row2 col2\" >$412.89</td> \n",
       "        <td id=\"T_bd2a6e76_4ec7_11e9_8a98_4a00081ed490row2_col3\" class=\"data row2 col3\" >$3.86</td> \n",
       "    </tr>    <tr> \n",
       "        <th id=\"T_bd2a6e76_4ec7_11e9_8a98_4a00081ed490level0_row3\" class=\"row_heading level0 row3\" >20-24</th> \n",
       "        <td id=\"T_bd2a6e76_4ec7_11e9_8a98_4a00081ed490row3_col0\" class=\"data row3 col0\" >365</td> \n",
       "        <td id=\"T_bd2a6e76_4ec7_11e9_8a98_4a00081ed490row3_col1\" class=\"data row3 col1\" >$3.05</td> \n",
       "        <td id=\"T_bd2a6e76_4ec7_11e9_8a98_4a00081ed490row3_col2\" class=\"data row3 col2\" >$1,114.06</td> \n",
       "        <td id=\"T_bd2a6e76_4ec7_11e9_8a98_4a00081ed490row3_col3\" class=\"data row3 col3\" >$4.32</td> \n",
       "    </tr>    <tr> \n",
       "        <th id=\"T_bd2a6e76_4ec7_11e9_8a98_4a00081ed490level0_row4\" class=\"row_heading level0 row4\" >25-29</th> \n",
       "        <td id=\"T_bd2a6e76_4ec7_11e9_8a98_4a00081ed490row4_col0\" class=\"data row4 col0\" >101</td> \n",
       "        <td id=\"T_bd2a6e76_4ec7_11e9_8a98_4a00081ed490row4_col1\" class=\"data row4 col1\" >$2.90</td> \n",
       "        <td id=\"T_bd2a6e76_4ec7_11e9_8a98_4a00081ed490row4_col2\" class=\"data row4 col2\" >$293.00</td> \n",
       "        <td id=\"T_bd2a6e76_4ec7_11e9_8a98_4a00081ed490row4_col3\" class=\"data row4 col3\" >$3.81</td> \n",
       "    </tr>    <tr> \n",
       "        <th id=\"T_bd2a6e76_4ec7_11e9_8a98_4a00081ed490level0_row5\" class=\"row_heading level0 row5\" >30-34</th> \n",
       "        <td id=\"T_bd2a6e76_4ec7_11e9_8a98_4a00081ed490row5_col0\" class=\"data row5 col0\" >73</td> \n",
       "        <td id=\"T_bd2a6e76_4ec7_11e9_8a98_4a00081ed490row5_col1\" class=\"data row5 col1\" >$2.93</td> \n",
       "        <td id=\"T_bd2a6e76_4ec7_11e9_8a98_4a00081ed490row5_col2\" class=\"data row5 col2\" >$214.00</td> \n",
       "        <td id=\"T_bd2a6e76_4ec7_11e9_8a98_4a00081ed490row5_col3\" class=\"data row5 col3\" >$4.12</td> \n",
       "    </tr>    <tr> \n",
       "        <th id=\"T_bd2a6e76_4ec7_11e9_8a98_4a00081ed490level0_row6\" class=\"row_heading level0 row6\" >35-39</th> \n",
       "        <td id=\"T_bd2a6e76_4ec7_11e9_8a98_4a00081ed490row6_col0\" class=\"data row6 col0\" >41</td> \n",
       "        <td id=\"T_bd2a6e76_4ec7_11e9_8a98_4a00081ed490row6_col1\" class=\"data row6 col1\" >$3.60</td> \n",
       "        <td id=\"T_bd2a6e76_4ec7_11e9_8a98_4a00081ed490row6_col2\" class=\"data row6 col2\" >$147.67</td> \n",
       "        <td id=\"T_bd2a6e76_4ec7_11e9_8a98_4a00081ed490row6_col3\" class=\"data row6 col3\" >$4.76</td> \n",
       "    </tr>    <tr> \n",
       "        <th id=\"T_bd2a6e76_4ec7_11e9_8a98_4a00081ed490level0_row7\" class=\"row_heading level0 row7\" >40+</th> \n",
       "        <td id=\"T_bd2a6e76_4ec7_11e9_8a98_4a00081ed490row7_col0\" class=\"data row7 col0\" >13</td> \n",
       "        <td id=\"T_bd2a6e76_4ec7_11e9_8a98_4a00081ed490row7_col1\" class=\"data row7 col1\" >$2.94</td> \n",
       "        <td id=\"T_bd2a6e76_4ec7_11e9_8a98_4a00081ed490row7_col2\" class=\"data row7 col2\" >$38.24</td> \n",
       "        <td id=\"T_bd2a6e76_4ec7_11e9_8a98_4a00081ed490row7_col3\" class=\"data row7 col3\" >$3.19</td> \n",
       "    </tr></tbody> \n",
       "</table> "
      ],
      "text/plain": [
       "<pandas.io.formats.style.Styler at 0x123638b00>"
      ]
     },
     "execution_count": 372,
     "metadata": {},
     "output_type": "execute_result"
    }
   ],
   "source": [
    "# display purchasing analysis by age\n",
    "age_demographics = pd.DataFrame({\"Purchase Count\": purchase_age,\n",
    "                                 \"Average Purchase Price\": average_price_age,\n",
    "                                 \"Total Purchase Value\":purchase_total,\n",
    "                                 \"Average Purchase Total per Person\": average_age_purchase})\n",
    "\n",
    "age_demographics.sort_values(['Age Group'], ascending = True).style.format ({\"Average Purchase Price\":\"${:,.2f}\",\n",
    "                               \"Total Purchase Value\":\"${:,.2f}\",\n",
    "                               \"Average Purchase Total per Person\":\"${:,.2f}\"})"
   ]
  },
  {
   "cell_type": "code",
   "execution_count": 373,
   "metadata": {},
   "outputs": [],
   "source": [
    "#top Spender\n",
    "top_spender= purchase_data.groupby(\"SN\")\n",
    "\n",
    "#Purchase count\n",
    "top_spender_purchase_count = top_spender[\"Purchase ID\"].count()\n",
    "\n",
    "#Average Purchase Price\n",
    "top_spender_average_price = top_spender[\"Price\"].mean()\n",
    "\n",
    "#Total purchase Value\n",
    "top_spender_total_purchase = top_spender[\"Price\"].sum()"
   ]
  },
  {
   "cell_type": "code",
   "execution_count": 374,
   "metadata": {},
   "outputs": [
    {
     "data": {
      "text/html": [
       "<style  type=\"text/css\" >\n",
       "</style>  \n",
       "<table id=\"T_bd309e2c_4ec7_11e9_a7c8_4a00081ed490\" > \n",
       "<thead>    <tr> \n",
       "        <th class=\"blank level0\" ></th> \n",
       "        <th class=\"col_heading level0 col0\" >Purchase Count</th> \n",
       "        <th class=\"col_heading level0 col1\" >Average Purchase Price</th> \n",
       "        <th class=\"col_heading level0 col2\" >Total Purchase Value</th> \n",
       "    </tr>    <tr> \n",
       "        <th class=\"index_name level0\" >SN</th> \n",
       "        <th class=\"blank\" ></th> \n",
       "        <th class=\"blank\" ></th> \n",
       "        <th class=\"blank\" ></th> \n",
       "    </tr></thead> \n",
       "<tbody>    <tr> \n",
       "        <th id=\"T_bd309e2c_4ec7_11e9_a7c8_4a00081ed490level0_row0\" class=\"row_heading level0 row0\" >Lisosia93</th> \n",
       "        <td id=\"T_bd309e2c_4ec7_11e9_a7c8_4a00081ed490row0_col0\" class=\"data row0 col0\" >5</td> \n",
       "        <td id=\"T_bd309e2c_4ec7_11e9_a7c8_4a00081ed490row0_col1\" class=\"data row0 col1\" >$3.79</td> \n",
       "        <td id=\"T_bd309e2c_4ec7_11e9_a7c8_4a00081ed490row0_col2\" class=\"data row0 col2\" >$18.96</td> \n",
       "    </tr>    <tr> \n",
       "        <th id=\"T_bd309e2c_4ec7_11e9_a7c8_4a00081ed490level0_row1\" class=\"row_heading level0 row1\" >Idastidru52</th> \n",
       "        <td id=\"T_bd309e2c_4ec7_11e9_a7c8_4a00081ed490row1_col0\" class=\"data row1 col0\" >4</td> \n",
       "        <td id=\"T_bd309e2c_4ec7_11e9_a7c8_4a00081ed490row1_col1\" class=\"data row1 col1\" >$3.86</td> \n",
       "        <td id=\"T_bd309e2c_4ec7_11e9_a7c8_4a00081ed490row1_col2\" class=\"data row1 col2\" >$15.45</td> \n",
       "    </tr>    <tr> \n",
       "        <th id=\"T_bd309e2c_4ec7_11e9_a7c8_4a00081ed490level0_row2\" class=\"row_heading level0 row2\" >Chamjask73</th> \n",
       "        <td id=\"T_bd309e2c_4ec7_11e9_a7c8_4a00081ed490row2_col0\" class=\"data row2 col0\" >3</td> \n",
       "        <td id=\"T_bd309e2c_4ec7_11e9_a7c8_4a00081ed490row2_col1\" class=\"data row2 col1\" >$4.61</td> \n",
       "        <td id=\"T_bd309e2c_4ec7_11e9_a7c8_4a00081ed490row2_col2\" class=\"data row2 col2\" >$13.83</td> \n",
       "    </tr>    <tr> \n",
       "        <th id=\"T_bd309e2c_4ec7_11e9_a7c8_4a00081ed490level0_row3\" class=\"row_heading level0 row3\" >Iral74</th> \n",
       "        <td id=\"T_bd309e2c_4ec7_11e9_a7c8_4a00081ed490row3_col0\" class=\"data row3 col0\" >4</td> \n",
       "        <td id=\"T_bd309e2c_4ec7_11e9_a7c8_4a00081ed490row3_col1\" class=\"data row3 col1\" >$3.40</td> \n",
       "        <td id=\"T_bd309e2c_4ec7_11e9_a7c8_4a00081ed490row3_col2\" class=\"data row3 col2\" >$13.62</td> \n",
       "    </tr>    <tr> \n",
       "        <th id=\"T_bd309e2c_4ec7_11e9_a7c8_4a00081ed490level0_row4\" class=\"row_heading level0 row4\" >Iskadarya95</th> \n",
       "        <td id=\"T_bd309e2c_4ec7_11e9_a7c8_4a00081ed490row4_col0\" class=\"data row4 col0\" >3</td> \n",
       "        <td id=\"T_bd309e2c_4ec7_11e9_a7c8_4a00081ed490row4_col1\" class=\"data row4 col1\" >$4.37</td> \n",
       "        <td id=\"T_bd309e2c_4ec7_11e9_a7c8_4a00081ed490row4_col2\" class=\"data row4 col2\" >$13.10</td> \n",
       "    </tr></tbody> \n",
       "</table> "
      ],
      "text/plain": [
       "<pandas.io.formats.style.Styler at 0x1234314e0>"
      ]
     },
     "execution_count": 374,
     "metadata": {},
     "output_type": "execute_result"
    }
   ],
   "source": [
    "#Display Top Spender\n",
    "top_spender_df = pd.DataFrame({\"Purchase Count\": top_spender_purchase_count ,\n",
    "                             \"Average Purchase Price\": top_spender_average_price,\n",
    "                             \"Total Purchase Value\":top_spender_total_purchase})\n",
    "\n",
    "#Display in descending order\n",
    "display_top_spenders = top_spender_df.sort_values([\"Total Purchase Value\"], ascending=False).head()\n",
    "\n",
    "display_top_spenders.style.format({\"Average Purchase Total\":\"${:,.2f}\",\n",
    "                                 \"Average Purchase Price\":\"${:,.2f}\", \n",
    "                                 \"Total Purchase Value\":\"${:,.2f}\"})"
   ]
  },
  {
   "cell_type": "code",
   "execution_count": 375,
   "metadata": {},
   "outputs": [],
   "source": [
    "# Popular Item Analysis \n",
    "items_pop = purchase_data[[\"Item ID\", \"Item Name\", \"Price\"]]\n",
    "\n",
    "\n",
    "popular_item = items_pop.groupby([\"Item ID\",\"Item Name\"])\n",
    "\n",
    "# popular Item Count\n",
    "popular_item_count = popular_item[\"Price\"].count()\n",
    "\n",
    "# total purchase\n",
    "popular_item_value = popular_item[\"Price\"].sum() \n",
    "\n",
    "# item price\n",
    "popular_item_price = purchase_value/popular_item_count\n",
    "\n"
   ]
  },
  {
   "cell_type": "code",
   "execution_count": 376,
   "metadata": {},
   "outputs": [
    {
     "data": {
      "text/html": [
       "<style  type=\"text/css\" >\n",
       "</style>  \n",
       "<table id=\"T_bd36e2e6_4ec7_11e9_ae5a_4a00081ed490\" > \n",
       "<thead>    <tr> \n",
       "        <th class=\"blank\" ></th> \n",
       "        <th class=\"blank level0\" ></th> \n",
       "        <th class=\"col_heading level0 col0\" >Purchase Count</th> \n",
       "        <th class=\"col_heading level0 col1\" >Item Price</th> \n",
       "        <th class=\"col_heading level0 col2\" >Total Purchase Value</th> \n",
       "    </tr>    <tr> \n",
       "        <th class=\"index_name level0\" >Item ID</th> \n",
       "        <th class=\"index_name level1\" >Item Name</th> \n",
       "        <th class=\"blank\" ></th> \n",
       "        <th class=\"blank\" ></th> \n",
       "        <th class=\"blank\" ></th> \n",
       "    </tr></thead> \n",
       "<tbody>    <tr> \n",
       "        <th id=\"T_bd36e2e6_4ec7_11e9_ae5a_4a00081ed490level0_row0\" class=\"row_heading level0 row0\" >178</th> \n",
       "        <th id=\"T_bd36e2e6_4ec7_11e9_ae5a_4a00081ed490level1_row0\" class=\"row_heading level1 row0\" >Oathbreaker, Last Hope of the Breaking Storm</th> \n",
       "        <td id=\"T_bd36e2e6_4ec7_11e9_ae5a_4a00081ed490row0_col0\" class=\"data row0 col0\" >12</td> \n",
       "        <td id=\"T_bd36e2e6_4ec7_11e9_ae5a_4a00081ed490row0_col1\" class=\"data row0 col1\" >$4.23</td> \n",
       "        <td id=\"T_bd36e2e6_4ec7_11e9_ae5a_4a00081ed490row0_col2\" class=\"data row0 col2\" >$50.76</td> \n",
       "    </tr>    <tr> \n",
       "        <th id=\"T_bd36e2e6_4ec7_11e9_ae5a_4a00081ed490level0_row1\" class=\"row_heading level0 row1\" >145</th> \n",
       "        <th id=\"T_bd36e2e6_4ec7_11e9_ae5a_4a00081ed490level1_row1\" class=\"row_heading level1 row1\" >Fiery Glass Crusader</th> \n",
       "        <td id=\"T_bd36e2e6_4ec7_11e9_ae5a_4a00081ed490row1_col0\" class=\"data row1 col0\" >9</td> \n",
       "        <td id=\"T_bd36e2e6_4ec7_11e9_ae5a_4a00081ed490row1_col1\" class=\"data row1 col1\" >$4.58</td> \n",
       "        <td id=\"T_bd36e2e6_4ec7_11e9_ae5a_4a00081ed490row1_col2\" class=\"data row1 col2\" >$41.22</td> \n",
       "    </tr>    <tr> \n",
       "        <th id=\"T_bd36e2e6_4ec7_11e9_ae5a_4a00081ed490level0_row2\" class=\"row_heading level0 row2\" >108</th> \n",
       "        <th id=\"T_bd36e2e6_4ec7_11e9_ae5a_4a00081ed490level1_row2\" class=\"row_heading level1 row2\" >Extraction, Quickblade Of Trembling Hands</th> \n",
       "        <td id=\"T_bd36e2e6_4ec7_11e9_ae5a_4a00081ed490row2_col0\" class=\"data row2 col0\" >9</td> \n",
       "        <td id=\"T_bd36e2e6_4ec7_11e9_ae5a_4a00081ed490row2_col1\" class=\"data row2 col1\" >$3.53</td> \n",
       "        <td id=\"T_bd36e2e6_4ec7_11e9_ae5a_4a00081ed490row2_col2\" class=\"data row2 col2\" >$31.77</td> \n",
       "    </tr>    <tr> \n",
       "        <th id=\"T_bd36e2e6_4ec7_11e9_ae5a_4a00081ed490level0_row3\" class=\"row_heading level0 row3\" >82</th> \n",
       "        <th id=\"T_bd36e2e6_4ec7_11e9_ae5a_4a00081ed490level1_row3\" class=\"row_heading level1 row3\" >Nirvana</th> \n",
       "        <td id=\"T_bd36e2e6_4ec7_11e9_ae5a_4a00081ed490row3_col0\" class=\"data row3 col0\" >9</td> \n",
       "        <td id=\"T_bd36e2e6_4ec7_11e9_ae5a_4a00081ed490row3_col1\" class=\"data row3 col1\" >$4.90</td> \n",
       "        <td id=\"T_bd36e2e6_4ec7_11e9_ae5a_4a00081ed490row3_col2\" class=\"data row3 col2\" >$44.10</td> \n",
       "    </tr>    <tr> \n",
       "        <th id=\"T_bd36e2e6_4ec7_11e9_ae5a_4a00081ed490level0_row4\" class=\"row_heading level0 row4\" >19</th> \n",
       "        <th id=\"T_bd36e2e6_4ec7_11e9_ae5a_4a00081ed490level1_row4\" class=\"row_heading level1 row4\" >Pursuit, Cudgel of Necromancy</th> \n",
       "        <td id=\"T_bd36e2e6_4ec7_11e9_ae5a_4a00081ed490row4_col0\" class=\"data row4 col0\" >8</td> \n",
       "        <td id=\"T_bd36e2e6_4ec7_11e9_ae5a_4a00081ed490row4_col1\" class=\"data row4 col1\" >$1.02</td> \n",
       "        <td id=\"T_bd36e2e6_4ec7_11e9_ae5a_4a00081ed490row4_col2\" class=\"data row4 col2\" >$8.16</td> \n",
       "    </tr></tbody> \n",
       "</table> "
      ],
      "text/plain": [
       "<pandas.io.formats.style.Styler at 0x1236ab3c8>"
      ]
     },
     "execution_count": 376,
     "metadata": {},
     "output_type": "execute_result"
    }
   ],
   "source": [
    "# Display popular Item\n",
    "popular_items_display = pd.DataFrame({\"Purchase Count\": purchase_count_item, \n",
    "                                   \"Item Price\": popular_item_price,\n",
    "                                   \"Total Purchase Value\":popular_item_value})\n",
    "\n",
    "\n",
    "popular_items_display_formatted.style.format({\"Item Price\":\"${:,.2f}\",\n",
    "                                \"Total Purchase Value\":\"${:,.2f}\"})\n"
   ]
  },
  {
   "cell_type": "code",
   "execution_count": 377,
   "metadata": {},
   "outputs": [
    {
     "data": {
      "text/html": [
       "<style  type=\"text/css\" >\n",
       "</style>  \n",
       "<table id=\"T_bd3a6768_4ec7_11e9_bb9d_4a00081ed490\" > \n",
       "<thead>    <tr> \n",
       "        <th class=\"blank\" ></th> \n",
       "        <th class=\"blank level0\" ></th> \n",
       "        <th class=\"col_heading level0 col0\" >Purchase Count</th> \n",
       "        <th class=\"col_heading level0 col1\" >Item Price</th> \n",
       "        <th class=\"col_heading level0 col2\" >Total Purchase Value</th> \n",
       "    </tr>    <tr> \n",
       "        <th class=\"index_name level0\" >Item ID</th> \n",
       "        <th class=\"index_name level1\" >Item Name</th> \n",
       "        <th class=\"blank\" ></th> \n",
       "        <th class=\"blank\" ></th> \n",
       "        <th class=\"blank\" ></th> \n",
       "    </tr></thead> \n",
       "<tbody>    <tr> \n",
       "        <th id=\"T_bd3a6768_4ec7_11e9_bb9d_4a00081ed490level0_row0\" class=\"row_heading level0 row0\" >178</th> \n",
       "        <th id=\"T_bd3a6768_4ec7_11e9_bb9d_4a00081ed490level1_row0\" class=\"row_heading level1 row0\" >Oathbreaker, Last Hope of the Breaking Storm</th> \n",
       "        <td id=\"T_bd3a6768_4ec7_11e9_bb9d_4a00081ed490row0_col0\" class=\"data row0 col0\" >12</td> \n",
       "        <td id=\"T_bd3a6768_4ec7_11e9_bb9d_4a00081ed490row0_col1\" class=\"data row0 col1\" >$4.23</td> \n",
       "        <td id=\"T_bd3a6768_4ec7_11e9_bb9d_4a00081ed490row0_col2\" class=\"data row0 col2\" >$50.76</td> \n",
       "    </tr>    <tr> \n",
       "        <th id=\"T_bd3a6768_4ec7_11e9_bb9d_4a00081ed490level0_row1\" class=\"row_heading level0 row1\" >82</th> \n",
       "        <th id=\"T_bd3a6768_4ec7_11e9_bb9d_4a00081ed490level1_row1\" class=\"row_heading level1 row1\" >Nirvana</th> \n",
       "        <td id=\"T_bd3a6768_4ec7_11e9_bb9d_4a00081ed490row1_col0\" class=\"data row1 col0\" >9</td> \n",
       "        <td id=\"T_bd3a6768_4ec7_11e9_bb9d_4a00081ed490row1_col1\" class=\"data row1 col1\" >$4.90</td> \n",
       "        <td id=\"T_bd3a6768_4ec7_11e9_bb9d_4a00081ed490row1_col2\" class=\"data row1 col2\" >$44.10</td> \n",
       "    </tr>    <tr> \n",
       "        <th id=\"T_bd3a6768_4ec7_11e9_bb9d_4a00081ed490level0_row2\" class=\"row_heading level0 row2\" >145</th> \n",
       "        <th id=\"T_bd3a6768_4ec7_11e9_bb9d_4a00081ed490level1_row2\" class=\"row_heading level1 row2\" >Fiery Glass Crusader</th> \n",
       "        <td id=\"T_bd3a6768_4ec7_11e9_bb9d_4a00081ed490row2_col0\" class=\"data row2 col0\" >9</td> \n",
       "        <td id=\"T_bd3a6768_4ec7_11e9_bb9d_4a00081ed490row2_col1\" class=\"data row2 col1\" >$4.58</td> \n",
       "        <td id=\"T_bd3a6768_4ec7_11e9_bb9d_4a00081ed490row2_col2\" class=\"data row2 col2\" >$41.22</td> \n",
       "    </tr>    <tr> \n",
       "        <th id=\"T_bd3a6768_4ec7_11e9_bb9d_4a00081ed490level0_row3\" class=\"row_heading level0 row3\" >92</th> \n",
       "        <th id=\"T_bd3a6768_4ec7_11e9_bb9d_4a00081ed490level1_row3\" class=\"row_heading level1 row3\" >Final Critic</th> \n",
       "        <td id=\"T_bd3a6768_4ec7_11e9_bb9d_4a00081ed490row3_col0\" class=\"data row3 col0\" >8</td> \n",
       "        <td id=\"T_bd3a6768_4ec7_11e9_bb9d_4a00081ed490row3_col1\" class=\"data row3 col1\" >$4.88</td> \n",
       "        <td id=\"T_bd3a6768_4ec7_11e9_bb9d_4a00081ed490row3_col2\" class=\"data row3 col2\" >$39.04</td> \n",
       "    </tr>    <tr> \n",
       "        <th id=\"T_bd3a6768_4ec7_11e9_bb9d_4a00081ed490level0_row4\" class=\"row_heading level0 row4\" >103</th> \n",
       "        <th id=\"T_bd3a6768_4ec7_11e9_bb9d_4a00081ed490level1_row4\" class=\"row_heading level1 row4\" >Singed Scalpel</th> \n",
       "        <td id=\"T_bd3a6768_4ec7_11e9_bb9d_4a00081ed490row4_col0\" class=\"data row4 col0\" >8</td> \n",
       "        <td id=\"T_bd3a6768_4ec7_11e9_bb9d_4a00081ed490row4_col1\" class=\"data row4 col1\" >$4.35</td> \n",
       "        <td id=\"T_bd3a6768_4ec7_11e9_bb9d_4a00081ed490row4_col2\" class=\"data row4 col2\" >$34.80</td> \n",
       "    </tr></tbody> \n",
       "</table> "
      ],
      "text/plain": [
       "<pandas.io.formats.style.Styler at 0x123508f28>"
      ]
     },
     "execution_count": 377,
     "metadata": {},
     "output_type": "execute_result"
    }
   ],
   "source": [
    "#Profitable Items Analysis \n",
    "# Sort the above table by total purchase value in descending order\n",
    "popular_items_display_formatted = popular_items_display.sort_values([\"Total Purchase Value\"], ascending=False).head()\n",
    "\n",
    "#formatting\n",
    "popular_items_display_formatted.style.format({\"Item Price\":\"${:,.2f}\",\n",
    "                                \"Total Purchase Value\":\"${:,.2f}\"})"
   ]
  },
  {
   "cell_type": "code",
   "execution_count": null,
   "metadata": {},
   "outputs": [],
   "source": []
  }
 ],
 "metadata": {
  "kernelspec": {
   "display_name": "Python 3",
   "language": "python",
   "name": "python3"
  },
  "language_info": {
   "codemirror_mode": {
    "name": "ipython",
    "version": 3
   },
   "file_extension": ".py",
   "mimetype": "text/x-python",
   "name": "python",
   "nbconvert_exporter": "python",
   "pygments_lexer": "ipython3",
   "version": "3.6.7"
  }
 },
 "nbformat": 4,
 "nbformat_minor": 2
}
